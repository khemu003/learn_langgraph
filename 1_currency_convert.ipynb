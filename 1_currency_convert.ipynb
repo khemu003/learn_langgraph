{
 "cells": [
  {
   "cell_type": "code",
   "execution_count": 1,
   "id": "426ec04d",
   "metadata": {},
   "outputs": [],
   "source": [
    "from typing import TypedDict, Literal"
   ]
  },
  {
   "cell_type": "code",
   "execution_count": 2,
   "id": "cc757f6d",
   "metadata": {},
   "outputs": [],
   "source": [
    "class PortfolioState(TypedDict):\n",
    "    percentage : float\n",
    "    amount_curr : Literal[\"USD\", \"INR\", \"AED\"]\n",
    "    amount : float\n",
    "    total_amount : float\n",
    "    target_currency : Literal[\"USD\", \"INR\", \"AED\"]\n",
    "    total : float"
   ]
  },
  {
   "cell_type": "code",
   "execution_count": 3,
   "id": "7a37e780",
   "metadata": {},
   "outputs": [],
   "source": [
    "mock_rates = {\n",
    "    \"USD\": {\"INR\": 85.58, \"AED\": 3.67, \"USD\": 1.0},\n",
    "    \"INR\": {\"USD\": 0.012, \"AED\": 0.044, \"INR\": 1.0},\n",
    "    \"AED\": {\"USD\": 0.28, \"INR\": 24.00, \"AED\": 1.0},\n",
    "}"
   ]
  },
  {
   "cell_type": "code",
   "execution_count": 4,
   "id": "a63b2266",
   "metadata": {},
   "outputs": [],
   "source": [
    "def cal_total(state : PortfolioState) -> PortfolioState:\n",
    "    state['total_amount'] = state['amount'] * (1 + (state['percentage'])/100)\n",
    "    return state"
   ]
  },
  {
   "cell_type": "code",
   "execution_count": 5,
   "id": "4a6d768b",
   "metadata": {},
   "outputs": [],
   "source": [
    "def convert_currency(state : PortfolioState) -> PortfolioState:\n",
    "    rate = mock_rates[state['amount_curr']][state['target_currency']]\n",
    "    state['total'] = state['total_amount'] * rate\n",
    "    return state"
   ]
  },
  {
   "cell_type": "code",
   "execution_count": 6,
   "id": "2085fb5d",
   "metadata": {},
   "outputs": [],
   "source": [
    "from langgraph.graph import StateGraph, START, END\n",
    "\n",
    "builder = StateGraph(PortfolioState)\n",
    "\n",
    "builder.add_node(\"cal_total_node\", cal_total)\n",
    "builder.add_node(\"convert_currency_node\", convert_currency)\n",
    "\n",
    "\n",
    "builder.add_edge(START, \"cal_total_node\")\n",
    "builder.add_edge(\"cal_total_node\", \"convert_currency_node\")\n",
    "builder.add_edge(\"convert_currency_node\", END)\n",
    "\n",
    "graph = builder.compile()"
   ]
  },
  {
   "cell_type": "code",
   "execution_count": 7,
   "id": "a86cd9ec",
   "metadata": {},
   "outputs": [
    {
     "data": {
      "image/png": "[encoded data removed]",
      "text/plain": [
       "<IPython.core.display.Image object>"
      ]
     },
     "metadata": {},
     "output_type": "display_data"
    }
   ],
   "source": [
    "from IPython.display import display, Image\n",
    "\n",
    "display(Image(graph.get_graph().draw_mermaid_png()))"
   ]
  },
  {
   "cell_type": "code",
   "execution_count": 8,
   "id": "93c922da",
   "metadata": {},
   "outputs": [
    {
     "name": "stdout",
     "output_type": "stream",
     "text": [
      "{'percentage': 10.0, 'amount_curr': 'USD', 'amount': 100.0, 'total_amount': 110.00000000000001, 'target_currency': 'INR', 'total': 9413.800000000001}\n"
     ]
    }
   ],
   "source": [
    "input_data = {\n",
    "    'percentage' : 10.0,\n",
    "    \"amount_curr\": \"USD\",\n",
    "    \"amount\": 100.0,\n",
    "    \"total_amount\": 0.0,\n",
    "    \"target_currency\": \"INR\",\n",
    "    \"total\": 0.0\n",
    "}\n",
    "\n",
    "result = graph.invoke(input_data)\n",
    "print(result)\n"
   ]
  },
  {
   "cell_type": "code",
   "execution_count": null,
   "id": "fa684cb2",
   "metadata": {},
   "outputs": [],
   "source": []
  }
 ],
 "metadata": {
  "kernelspec": {
   "display_name": ".venv",
   "language": "python",
   "name": "python3"
  },
  "language_info": {
   "codemirror_mode": {
    "name": "ipython",
    "version": 3
   },
   "file_extension": ".py",
   "mimetype": "text/x-python",
   "name": "python",
   "nbconvert_exporter": "python",
   "pygments_lexer": "ipython3",
   "version": "3.12.10"
  }
 },
 "nbformat": 4,
 "nbformat_minor": 5
}
