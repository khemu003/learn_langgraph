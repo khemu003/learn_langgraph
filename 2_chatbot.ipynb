{
 "cells": [
  {
   "cell_type": "code",
   "execution_count": 15,
   "id": "66c52e86",
   "metadata": {},
   "outputs": [],
   "source": [
    "from dotenv import load_dotenv\n",
    "from typing import TypedDict, Annotated\n",
    "from langchain.chat_models import init_chat_model\n",
    "from langgraph.graph import StateGraph, START, END\n",
    "from langgraph.graph.message import add_messages"
   ]
  },
  {
   "cell_type": "code",
   "execution_count": 16,
   "id": "b67a0fa9",
   "metadata": {},
   "outputs": [
    {
     "data": {
      "text/plain": [
       "True"
      ]
     },
     "execution_count": 16,
     "metadata": {},
     "output_type": "execute_result"
    }
   ],
   "source": [
    "load_dotenv()"
   ]
  },
  {
   "cell_type": "code",
   "execution_count": 17,
   "id": "ccf66fe3",
   "metadata": {},
   "outputs": [],
   "source": [
    "\n",
    "llm=init_chat_model(\"google_genai:gemini-2.0-flash\")"
   ]
  },
  {
   "cell_type": "code",
   "execution_count": 18,
   "id": "cd5705b6",
   "metadata": {},
   "outputs": [],
   "source": [
    "class State(TypedDict):\n",
    "    messages : Annotated[list, add_messages]"
   ]
  },
  {
   "cell_type": "code",
   "execution_count": 19,
   "id": "88e25d74",
   "metadata": {},
   "outputs": [],
   "source": [
    "def chatbot(state : State) -> State:\n",
    "    return {\"messages\" : [llm.invoke(state[\"messages\"])]}"
   ]
  },
  {
   "cell_type": "code",
   "execution_count": 20,
   "id": "cba208a6",
   "metadata": {},
   "outputs": [],
   "source": [
    "builder = StateGraph(State)\n",
    "\n",
    "builder.add_node(\"chatbot_node\", chatbot)\n",
    "\n",
    "builder.add_edge(START, \"chatbot_node\")\n",
    "builder.add_edge(\"chatbot_node\", END)\n",
    "\n",
    "graph = builder.compile()"
   ]
  },
  {
   "cell_type": "code",
   "execution_count": 21,
   "id": "f008a150",
   "metadata": {},
   "outputs": [],
   "source": [
    "message = {\"role\":\"user\", \"content\":\"define what is python?\"}\n",
    "response = graph.invoke({\"messages\" : [message]})"
   ]
  },
  {
   "cell_type": "code",
   "execution_count": 22,
   "id": "17f2ce91",
   "metadata": {},
   "outputs": [
    {
     "data": {
      "text/plain": [
       "[HumanMessage(content='define what is python?', additional_kwargs={}, response_metadata={}, id='4b5b556c-d33e-4502-b018-6d313b1a754c'),\n",
       " AIMessage(content='Python is a high-level, general-purpose programming language. Here\\'s a breakdown of what that means:\\n\\n*   **High-Level:** Python abstracts away many of the low-level details of computer hardware (like memory management) that programmers need to deal with in languages like C or assembly. This makes Python code easier to read, write, and understand. You can focus on solving the problem rather than worrying about the nitty-gritty details of the machine.\\n\\n*   **General-Purpose:** Python can be used for a wide variety of tasks and applications.  It\\'s not specifically designed for one particular domain.  Common applications include:\\n\\n    *   **Web Development:** Building web applications and APIs (using frameworks like Django and Flask).\\n    *   **Data Science and Machine Learning:** Analyzing data, building machine learning models, and creating visualizations (using libraries like NumPy, Pandas, Scikit-learn, and Matplotlib).\\n    *   **Scripting and Automation:** Automating repetitive tasks, system administration, and creating small utility scripts.\\n    *   **Desktop Applications:** Creating graphical user interfaces (GUIs) for desktop software (using libraries like Tkinter, PyQt, and Kivy).\\n    *   **Game Development:** Developing games (using libraries like Pygame).\\n    *   **Scientific Computing:** Performing complex calculations and simulations.\\n    *   **Education:** Python\\'s readability makes it a popular language for teaching programming concepts.\\n\\n*   **Key Features of Python:**\\n\\n    *   **Readability:** Python emphasizes code readability through its clean syntax and use of indentation. This makes it easier to learn and maintain.  It strives for a \"one obvious way\" to do things.\\n    *   **Dynamic Typing:** You don\\'t need to explicitly declare the data type of variables. Python infers the type at runtime.\\n    *   **Interpreted:** Python code is executed line by line by an interpreter, rather than being compiled into machine code beforehand.  This makes development faster because you can run your code without a separate compilation step.\\n    *   **Large Standard Library:** Python comes with a comprehensive standard library that provides modules and functions for many common tasks, reducing the need to write code from scratch.\\n    *   **Extensive Third-Party Libraries:**  A vast ecosystem of third-party libraries and frameworks extends Python\\'s capabilities even further.  These libraries are easily installed using package managers like `pip`.\\n    *   **Object-Oriented:** Python supports object-oriented programming (OOP) principles, allowing you to organize code into reusable objects. However, it also supports procedural and functional programming styles.\\n    *   **Cross-Platform:** Python runs on many different operating systems, including Windows, macOS, Linux, and others.\\n\\nIn summary, Python is a versatile and widely used programming language known for its readability, ease of use, and extensive capabilities. Its large community and rich ecosystem of libraries make it a powerful tool for a wide range of applications.', additional_kwargs={}, response_metadata={'prompt_feedback': {'block_reason': 0, 'safety_ratings': []}, 'finish_reason': 'STOP', 'model_name': 'gemini-2.0-flash', 'safety_ratings': []}, id='run--29de9617-2cb6-4469-9597-3ccceb1f510c-0', usage_metadata={'input_tokens': 5, 'output_tokens': 623, 'total_tokens': 628, 'input_token_details': {'cache_read': 0}})]"
      ]
     },
     "execution_count": 22,
     "metadata": {},
     "output_type": "execute_result"
    }
   ],
   "source": [
    "response[\"messages\"]"
   ]
  },
  {
   "cell_type": "code",
   "execution_count": 39,
   "id": "0bf88751",
   "metadata": {},
   "outputs": [
    {
     "name": "stderr",
     "output_type": "stream",
     "text": [
      "Retrying langchain_google_genai.chat_models._chat_with_retry.<locals>._chat_with_retry in 2.0 seconds as it raised InternalServerError: 500 Internal error encountered..\n"
     ]
    },
    {
     "name": "stdout",
     "output_type": "stream",
     "text": [
      "BOT Response : \n",
      "I am doing well, thank you for asking! As a large language model, I don't experience emotions or feelings in the same way humans do, but I am functioning optimally and ready to assist you with your requests. How can I help you today?\n",
      "\n",
      "BOT Response : \n",
      "It's nice to meet you, Khemu! How can I help you today?\n",
      "\n",
      "BOT Response : \n",
      "Your name is Khemu.\n",
      "\n"
     ]
    }
   ],
   "source": [
    "state = None\n",
    "\n",
    "while True:\n",
    "    in_message = input(\"YOU : \")\n",
    "\n",
    "    if in_message.lower() in {\"quit\", \"exit\"}:\n",
    "        break   \n",
    "    if state is None:\n",
    "        state : State = {\n",
    "            \"messages\" : [{\"role\":\"user\", \"content\": in_message}]\n",
    "            }\n",
    "    else:\n",
    "        state[\"messages\"].append({\"role\":\"user\", \"content\": in_message})\n",
    "\n",
    "    state = graph.invoke(state)\n",
    "    print(f\"BOT Response : \\n{state[\"messages\"][-1].content}\\n\")"
   ]
  },
  {
   "cell_type": "code",
   "execution_count": null,
   "id": "e2f263cd",
   "metadata": {},
   "outputs": [],
   "source": []
  },
  {
   "cell_type": "code",
   "execution_count": null,
   "id": "0a408397",
   "metadata": {},
   "outputs": [],
   "source": []
  }
 ],
 "metadata": {
  "kernelspec": {
   "display_name": ".venv",
   "language": "python",
   "name": "python3"
  },
  "language_info": {
   "codemirror_mode": {
    "name": "ipython",
    "version": 3
   },
   "file_extension": ".py",
   "mimetype": "text/x-python",
   "name": "python",
   "nbconvert_exporter": "python",
   "pygments_lexer": "ipython3",
   "version": "3.12.10"
  }
 },
 "nbformat": 4,
 "nbformat_minor": 5
}
